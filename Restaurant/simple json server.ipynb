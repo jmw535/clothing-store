{
 "cells": [
  {
   "cell_type": "code",
   "execution_count": 1,
   "metadata": {
    "collapsed": false
   },
   "outputs": [
    {
     "name": "stdout",
     "output_type": "stream",
     "text": [
      "Starting server at http://localhost:8080\n",
      "\n"
     ]
    },
    {
     "name": "stderr",
     "output_type": "stream",
     "text": [
      "127.0.0.1 - - [20/Jul/2017 16:37:41] \"GET / HTTP/1.1\" 200 -\n"
     ]
    },
    {
     "name": "stdout",
     "output_type": "stream",
     "text": [
      "\n"
     ]
    },
    {
     "name": "stderr",
     "output_type": "stream",
     "text": [
      "127.0.0.1 - - [20/Jul/2017 16:37:41] \"GET /favicon.ico HTTP/1.1\" 200 -\n"
     ]
    },
    {
     "name": "stdout",
     "output_type": "stream",
     "text": [
      "\n"
     ]
    },
    {
     "name": "stderr",
     "output_type": "stream",
     "text": [
      "127.0.0.1 - - [20/Jul/2017 16:37:51] \"GET /? HTTP/1.1\" 200 -\n"
     ]
    },
    {
     "name": "stdout",
     "output_type": "stream",
     "text": [
      "\n"
     ]
    },
    {
     "name": "stderr",
     "output_type": "stream",
     "text": [
      "127.0.0.1 - - [20/Jul/2017 16:37:52] \"GET /favicon.ico HTTP/1.1\" 200 -\n"
     ]
    },
    {
     "name": "stdout",
     "output_type": "stream",
     "text": [
      "clothing_list\n",
      "\n"
     ]
    },
    {
     "name": "stderr",
     "output_type": "stream",
     "text": [
      "127.0.0.1 - - [20/Jul/2017 16:37:57] \"GET /?clothing_list HTTP/1.1\" 200 -\n",
      "127.0.0.1 - - [20/Jul/2017 16:37:57] \"GET /favicon.ico HTTP/1.1\" 200 -\n"
     ]
    },
    {
     "name": "stdout",
     "output_type": "stream",
     "text": [
      "order_history\n"
     ]
    },
    {
     "name": "stderr",
     "output_type": "stream",
     "text": [
      "127.0.0.1 - - [20/Jul/2017 16:38:04] \"GET /?order_history HTTP/1.1\" 200 -\n"
     ]
    },
    {
     "name": "stdout",
     "output_type": "stream",
     "text": [
      "\n"
     ]
    },
    {
     "name": "stderr",
     "output_type": "stream",
     "text": [
      "127.0.0.1 - - [20/Jul/2017 16:38:05] \"GET /favicon.ico HTTP/1.1\" 200 -\n"
     ]
    },
    {
     "ename": "KeyboardInterrupt",
     "evalue": "",
     "output_type": "error",
     "traceback": [
      "\u001b[0;31m---------------------------------------------------------------------------\u001b[0m",
      "\u001b[0;31mKeyboardInterrupt\u001b[0m                         Traceback (most recent call last)",
      "\u001b[0;32m<ipython-input-1-1a56705dea28>\u001b[0m in \u001b[0;36m<module>\u001b[0;34m()\u001b[0m\n\u001b[1;32m     67\u001b[0m     \u001b[0mserver\u001b[0m \u001b[1;33m=\u001b[0m \u001b[0mHTTPServer\u001b[0m\u001b[1;33m(\u001b[0m\u001b[1;33m(\u001b[0m\u001b[1;34m'localhost'\u001b[0m\u001b[1;33m,\u001b[0m \u001b[1;36m8080\u001b[0m\u001b[1;33m)\u001b[0m\u001b[1;33m,\u001b[0m \u001b[0mGetHandler\u001b[0m\u001b[1;33m)\u001b[0m\u001b[1;33m\u001b[0m\u001b[0m\n\u001b[1;32m     68\u001b[0m     \u001b[1;32mprint\u001b[0m \u001b[1;34m'Starting server at http://localhost:8080'\u001b[0m\u001b[1;33m\u001b[0m\u001b[0m\n\u001b[0;32m---> 69\u001b[0;31m     \u001b[0mserver\u001b[0m\u001b[1;33m.\u001b[0m\u001b[0mserve_forever\u001b[0m\u001b[1;33m(\u001b[0m\u001b[1;33m)\u001b[0m\u001b[1;33m\u001b[0m\u001b[0m\n\u001b[0m",
      "\u001b[0;32mE:\\app\\pc1218\\anaconda\\lib\\SocketServer.pyc\u001b[0m in \u001b[0;36mserve_forever\u001b[0;34m(self, poll_interval)\u001b[0m\n\u001b[1;32m    229\u001b[0m                 \u001b[1;31m# shutdown request and wastes cpu at all other times.\u001b[0m\u001b[1;33m\u001b[0m\u001b[1;33m\u001b[0m\u001b[0m\n\u001b[1;32m    230\u001b[0m                 r, w, e = _eintr_retry(select.select, [self], [], [],\n\u001b[0;32m--> 231\u001b[0;31m                                        poll_interval)\n\u001b[0m\u001b[1;32m    232\u001b[0m                 \u001b[1;32mif\u001b[0m \u001b[0mself\u001b[0m \u001b[1;32min\u001b[0m \u001b[0mr\u001b[0m\u001b[1;33m:\u001b[0m\u001b[1;33m\u001b[0m\u001b[0m\n\u001b[1;32m    233\u001b[0m                     \u001b[0mself\u001b[0m\u001b[1;33m.\u001b[0m\u001b[0m_handle_request_noblock\u001b[0m\u001b[1;33m(\u001b[0m\u001b[1;33m)\u001b[0m\u001b[1;33m\u001b[0m\u001b[0m\n",
      "\u001b[0;32mE:\\app\\pc1218\\anaconda\\lib\\SocketServer.pyc\u001b[0m in \u001b[0;36m_eintr_retry\u001b[0;34m(func, *args)\u001b[0m\n\u001b[1;32m    148\u001b[0m     \u001b[1;32mwhile\u001b[0m \u001b[0mTrue\u001b[0m\u001b[1;33m:\u001b[0m\u001b[1;33m\u001b[0m\u001b[0m\n\u001b[1;32m    149\u001b[0m         \u001b[1;32mtry\u001b[0m\u001b[1;33m:\u001b[0m\u001b[1;33m\u001b[0m\u001b[0m\n\u001b[0;32m--> 150\u001b[0;31m             \u001b[1;32mreturn\u001b[0m \u001b[0mfunc\u001b[0m\u001b[1;33m(\u001b[0m\u001b[1;33m*\u001b[0m\u001b[0margs\u001b[0m\u001b[1;33m)\u001b[0m\u001b[1;33m\u001b[0m\u001b[0m\n\u001b[0m\u001b[1;32m    151\u001b[0m         \u001b[1;32mexcept\u001b[0m \u001b[1;33m(\u001b[0m\u001b[0mOSError\u001b[0m\u001b[1;33m,\u001b[0m \u001b[0mselect\u001b[0m\u001b[1;33m.\u001b[0m\u001b[0merror\u001b[0m\u001b[1;33m)\u001b[0m \u001b[1;32mas\u001b[0m \u001b[0me\u001b[0m\u001b[1;33m:\u001b[0m\u001b[1;33m\u001b[0m\u001b[0m\n\u001b[1;32m    152\u001b[0m             \u001b[1;32mif\u001b[0m \u001b[0me\u001b[0m\u001b[1;33m.\u001b[0m\u001b[0margs\u001b[0m\u001b[1;33m[\u001b[0m\u001b[1;36m0\u001b[0m\u001b[1;33m]\u001b[0m \u001b[1;33m!=\u001b[0m \u001b[0merrno\u001b[0m\u001b[1;33m.\u001b[0m\u001b[0mEINTR\u001b[0m\u001b[1;33m:\u001b[0m\u001b[1;33m\u001b[0m\u001b[0m\n",
      "\u001b[0;31mKeyboardInterrupt\u001b[0m: "
     ]
    }
   ],
   "source": [
    "from BaseHTTPServer import BaseHTTPRequestHandler\n",
    "import urlparse, json\n",
    "import sys\n",
    "import simplejson\n",
    "import yaml\n",
    "class GetHandler(BaseHTTPRequestHandler):\n",
    "    \n",
    "    def parse_avail(self,jsonfile):    \n",
    "        js_list = []\n",
    "\n",
    "        for line in jsonfile:\n",
    "            ele = line.split()\n",
    "            if ele[0] == '[' or ele[0] == ']':\n",
    "                continue\n",
    "            elif ele[0] == '{':\n",
    "                js_line = '{'\n",
    "            elif ele[0] == '},':\n",
    "                js_line += '}'\n",
    "                j_dict = json.loads(js_line)\n",
    "                js_list.append(j_dict)\n",
    "            else:\n",
    "                js_line += line\n",
    "        jsonfile.close()\n",
    "        return js_list\n",
    "\n",
    "    def do_GET(self):\n",
    "        message = ''\n",
    "        parsed_path = urlparse.urlparse(self.path)\n",
    "        print parsed_path.query\n",
    "        if parsed_path.query == 'clothing_list':\n",
    "            try:\n",
    "                shopfile = open('./clothing_list.txt','r')\n",
    "            except:\n",
    "                print('Error: An error occured trying to read the file.')\n",
    "                sys.exit()\n",
    "            js_list = self.parse_avail(shopfile)\n",
    "            message = js_list\n",
    "            \n",
    "        if parsed_path.query == 'order_history':\n",
    "            try:\n",
    "                orderfile = open('./test.txt','r')\n",
    "            except:\n",
    "                print('Error: An error occured trying to read the file.')\n",
    "                sys.exit()\n",
    "            js_list = simplejson.load(orderfile)     \n",
    "            orderfile.close()\n",
    "            message = js_list\n",
    "            \n",
    "        self.send_response(200)\n",
    "        self.end_headers()\n",
    "        self.wfile.write(message) # write a response back to the client\n",
    "        return\n",
    "\n",
    "    def do_POST(self):\n",
    "        content_len = int(self.headers.getheader('content-length')) # length of request body\n",
    "        post_body = self.rfile.read(content_len) # format [{},{},...,{}]\n",
    "        self.send_response(200)\n",
    "        self.end_headers()\n",
    "        data = yaml.load(post_body) # get a list of dictionaries\n",
    "        with open(\"test.txt\", \"w\") as outfile:\n",
    "            simplejson.dump(data, outfile)    \n",
    "        self.wfile.write('Order confirmed\\n')\n",
    "        return\n",
    "\n",
    "if __name__ == '__main__':\n",
    "    from BaseHTTPServer import HTTPServer\n",
    "    server = HTTPServer(('localhost', 8080), GetHandler)\n",
    "    print 'Starting server at http://localhost:8080'\n",
    "    server.serve_forever()"
   ]
  }
 ],
 "metadata": {
  "kernelspec": {
   "display_name": "Python 2",
   "language": "python",
   "name": "python2"
  },
  "language_info": {
   "codemirror_mode": {
    "name": "ipython",
    "version": 2
   },
   "file_extension": ".py",
   "mimetype": "text/x-python",
   "name": "python",
   "nbconvert_exporter": "python",
   "pygments_lexer": "ipython2",
   "version": "2.7.13"
  }
 },
 "nbformat": 4,
 "nbformat_minor": 2
}
